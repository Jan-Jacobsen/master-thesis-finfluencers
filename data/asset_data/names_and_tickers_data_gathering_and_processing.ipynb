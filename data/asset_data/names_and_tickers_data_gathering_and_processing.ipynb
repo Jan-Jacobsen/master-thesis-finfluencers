{
 "cells": [
  {
   "cell_type": "code",
   "execution_count": 94,
   "metadata": {},
   "outputs": [],
   "source": [
    "import requests\n",
    "import pandas as pd\n",
    "from api_keys import eodhd_api_key as API_KEY"
   ]
  },
  {
   "cell_type": "markdown",
   "metadata": {},
   "source": [
    "### Data Downloads"
   ]
  },
  {
   "cell_type": "markdown",
   "metadata": {},
   "source": [
    "#### Get exchanges list"
   ]
  },
  {
   "cell_type": "code",
   "execution_count": 9,
   "metadata": {},
   "outputs": [],
   "source": [
    "# should return all data with one request\n",
    "url = f\"https://eodhd.com/api/exchanges-list/?api_token={API_KEY}&fmt=json\"\n",
    "exchanges_data = requests.get(url).json()\n",
    "exchanges_df = pd.DataFrame(exchanges_data)\n",
    "# save\n",
    "exchanges_df.to_csv(\"eodhd_exchanges.csv\", index=False, sep=\";\")"
   ]
  },
  {
   "cell_type": "markdown",
   "metadata": {},
   "source": [
    "#### Get names and tickers (raw)"
   ]
  },
  {
   "cell_type": "markdown",
   "metadata": {},
   "source": [
    "##### US Stocks, ETFS, etc."
   ]
  },
  {
   "cell_type": "code",
   "execution_count": 24,
   "metadata": {},
   "outputs": [],
   "source": [
    "# https://eodhd.com/financial-apis/exchanges-api-list-of-tickers-and-trading-hours#Get_List_of_Tickers_Exchange_Symbols\n",
    "\n",
    "exchange_code = \"US\"\n",
    "# get active tickers (still listed as of a month ago)\n",
    "url = f\"https://eodhd.com/api/exchange-symbol-list/{exchange_code}?api_token={API_KEY}&fmt=json\"\n",
    "active_tickers = requests.get(url).json()\n",
    "# get inactive tickers\n",
    "url = f\"https://eodhd.com/api/exchange-symbol-list/{exchange_code}?delisted=1&api_token={API_KEY}&fmt=json\"\n",
    "inactive_tickers = requests.get(url).json()\n",
    "\n",
    "active_tickers_df = pd.DataFrame(active_tickers)\n",
    "inactive_tickers_df = pd.DataFrame(inactive_tickers)\n",
    "\n",
    "print(f\"Retrieved {len(active_tickers_df)} active tickers and {len(inactive_tickers_df)} inactive tickers\")"
   ]
  },
  {
   "cell_type": "code",
   "execution_count": 32,
   "metadata": {},
   "outputs": [],
   "source": [
    "# add \"delisted_as_of_may_2024\" column\n",
    "delisted_colname = \"delisted_as_of_may_2024\"\n",
    "active_tickers_df[delisted_colname] = False\n",
    "inactive_tickers_df[delisted_colname] = True\n",
    "\n",
    "# merge \n",
    "all_tickers_df = pd.concat([active_tickers_df, inactive_tickers_df])\n",
    "\n",
    "# save full dataframe\n",
    "all_tickers_df.to_csv(\"raw/nat/eodhd_US_names_and_tickers.csv\", index=False, sep=\";\")"
   ]
  },
  {
   "cell_type": "markdown",
   "metadata": {},
   "source": [
    "##### Crypto"
   ]
  },
  {
   "cell_type": "code",
   "execution_count": 96,
   "metadata": {},
   "outputs": [],
   "source": [
    "exchange_code = \"CC\"\n",
    "# active \n",
    "url = f'https://eodhd.com/api/exchange-symbol-list/{exchange_code}?delisted=0&api_token={API_KEY}&fmt=json'\n",
    "active_tickers = requests.get(url).json()\n",
    "# inactive\n",
    "url = f'https://eodhd.com/api/exchange-symbol-list/{exchange_code}?delisted=1&api_token={API_KEY}&fmt=json'\n",
    "inactive_tickers = requests.get(url).json()\n",
    "\n",
    "active_tickers_df = pd.DataFrame(active_tickers)\n",
    "inactive_tickers_df = pd.DataFrame(inactive_tickers)"
   ]
  },
  {
   "cell_type": "code",
   "execution_count": 107,
   "metadata": {},
   "outputs": [],
   "source": [
    "# add \"delisted_as_of_may_2024\" column\n",
    "delisted_colname = \"delisted_as_of_may_2024\"\n",
    "active_tickers_df[delisted_colname] = False\n",
    "inactive_tickers_df[delisted_colname] = True\n",
    "\n",
    "# merge \n",
    "all_tickers_df = pd.concat([active_tickers_df, inactive_tickers_df])\n",
    "\n",
    "# save full dataframe\n",
    "all_tickers_df.to_csv(\"raw/nat/eodhd_cryptos_names_and_tickers.csv\", index=False, sep=\";\")"
   ]
  },
  {
   "cell_type": "markdown",
   "metadata": {},
   "source": [
    "##### Commodities\n"
   ]
  },
  {
   "cell_type": "code",
   "execution_count": null,
   "metadata": {},
   "outputs": [],
   "source": [
    "# manually created excel sheet (mix of futures, etfs and equities selected to represent commodities)"
   ]
  },
  {
   "cell_type": "markdown",
   "metadata": {},
   "source": [
    "### Data Processing and Cleaning\n",
    "\n",
    "The full list of eodhd US tickers includes many which are not relevant to us. We create and save a filtered version of the dataset and separate stocks and etf data."
   ]
  },
  {
   "cell_type": "markdown",
   "metadata": {},
   "source": [
    "##### US stocks dataset\n",
    "\n",
    "- create indicator column showing S&P 500 membership (May 2024)\n",
    "- filter for \"Common Stock\" in Type column (to exclude preferred shares etc.)\n",
    "- filter for \"NYSE\" and \"NASDAQ\" in Exchange column (only major exchanges, exclude OTC, Pink Sheets etc.)\n",
    "\n",
    "##### US ETFs dataset\n",
    "\n",
    "- filter for \"ETF\" in Type column\n",
    "- filter for \"NYSE\", \"NASDAQ\" and \"NYSE ARCA\" in Exchange column (many ETFs are traded on NYSE ARCA)"
   ]
  },
  {
   "cell_type": "code",
   "execution_count": 68,
   "metadata": {},
   "outputs": [
    {
     "name": "stdout",
     "output_type": "stream",
     "text": [
      "Removed 384 rows with missing Name, Code, Type or Exchange\n"
     ]
    }
   ],
   "source": [
    "# load full dataset\n",
    "df = pd.read_csv(\"raw/nat/eodhd_US_names_and_tickers.csv\", sep=\";\")\n",
    "# remove rows with one of the following columns missing: Name, Code, Type, Exchange (should not be many)\n",
    "n_before = len(df)\n",
    "df = df.dropna(subset=[\"Name\", \"Code\", \"Type\", \"Exchange\"])\n",
    "print(f\"Removed {n_before - len(df)} rows with missing Name, Code, Type or Exchange\")"
   ]
  },
  {
   "cell_type": "code",
   "execution_count": 69,
   "metadata": {},
   "outputs": [
    {
     "name": "stdout",
     "output_type": "stream",
     "text": [
      "Retained 20518 stocks\n"
     ]
    }
   ],
   "source": [
    "# load sp500 constituents list\n",
    "sp500_tickers = pd.read_excel(\"raw/nat/SP500_constituents_may_2024.xlsx\")[\"Symbol\"]\n",
    "sp500_tickers = sp500_tickers.str.replace(\".\", \"-\")\n",
    "# add indicator column\n",
    "df[\"in_sp500_as_of_may_2024\"] = df[\"Code\"].isin(sp500_tickers)\n",
    "\n",
    "# note: we leave both listed and delisted stocks included here\n",
    "stocks_df = df[(df[\"Type\"] == \"Common Stock\") & \n",
    "                (df[\"Exchange\"].isin([\"NYSE\", \"NASDAQ\"]))]\n",
    "print(f\"Retained {len(stocks_df)} stocks\")\n",
    "\n",
    "# sort\n",
    "stocks_df = stocks_df.sort_values(by=[\"in_sp500_as_of_may_2024\", \"delisted_as_of_may_2024\"], ascending=[False, True])\n",
    "# save\n",
    "stocks_df.to_csv(\"names_and_tickers/eodhd_stocks.csv\", index=False, sep=\";\")"
   ]
  },
  {
   "cell_type": "code",
   "execution_count": 70,
   "metadata": {},
   "outputs": [
    {
     "name": "stdout",
     "output_type": "stream",
     "text": [
      "Retained 4057 etfs\n"
     ]
    }
   ],
   "source": [
    "# note: we leave both listed and delisted etfs included here\n",
    "etfs_df = df[(df[\"Type\"] == \"ETF\") &\n",
    "                (df[\"Exchange\"].isin([\"NYSE\", \"NASDAQ\", \"NYSE ARCA\"]))]\n",
    "print(f\"Retained {len(etfs_df)} etfs\")\n",
    "\n",
    "# sort\n",
    "etfs_df = etfs_df.sort_values(by=[\"delisted_as_of_may_2024\"], ascending=[True])\n",
    "# save\n",
    "etfs_df.to_csv(\"names_and_tickers/eodhd_etfs.csv\", index=False, sep=\";\")"
   ]
  },
  {
   "cell_type": "markdown",
   "metadata": {},
   "source": [
    "##### Crypto dataset\n",
    "\n",
    "- create \"Code_clean\" column with standalone ticker name (e.g. \"BTC\" for \"BTC-USD\")\n",
    "- create indicator column showing membership of top 200 market cap list (coinmarketcap.com snapshot, Dec 2022)"
   ]
  },
  {
   "cell_type": "code",
   "execution_count": 54,
   "metadata": {},
   "outputs": [
    {
     "name": "stdout",
     "output_type": "stream",
     "text": [
      "Matched 195 tickers to the top200 list\n"
     ]
    }
   ],
   "source": [
    "# load eodhd crypto data and cmc top200 data\n",
    "import pandas as pd\n",
    "import re\n",
    "crypto_df = pd.read_csv(\"raw/nat/eodhd_cryptos_names_and_tickers.csv\", sep=\";\")\n",
    "top200_df = pd.read_excel(\"raw/nat/top200_cryptos_dec_2022.xlsx\")\n",
    "\n",
    "# clean eodhd crypto tickers\n",
    "if \"Code_clean\" not in crypto_df.columns:\n",
    "    crypto_df[\"Code_clean\"] = crypto_df[\"Code\"].apply(lambda x: re.sub(r\"-USD$\", \"\", x))\n",
    "\n",
    "# get top200 column\n",
    "if \"in_top200_as_of_dec_2022\" not in crypto_df.columns:\n",
    "    crypto_df[\"in_top200_as_of_dec_2022\"] = crypto_df[\"Code_clean\"].isin(top200_df[\"Symbol\"])\n",
    "    print(f\"Matched {crypto_df['in_top200_as_of_dec_2022'].sum()} tickers to the top200 list\")\n",
    "\n",
    "# order \n",
    "crypto_df = crypto_df.sort_values([\"in_top200_as_of_dec_2022\", \"delisted_as_of_may_2024\"], ascending=[False, True])\n",
    "# save\n",
    "crypto_df.to_csv(\"names_and_tickers/eodhd_cryptos.csv\", index=False, sep=\";\")"
   ]
  },
  {
   "cell_type": "markdown",
   "metadata": {},
   "source": [
    "##### Commodities dataset\n",
    "\n",
    "- load from excel file and save to csv"
   ]
  },
  {
   "cell_type": "code",
   "execution_count": 2,
   "metadata": {},
   "outputs": [],
   "source": [
    "# load raw commodities data\n",
    "commodities_df = pd.read_excel(\"raw/nat/commodities_names_and_tickers.xlsx\", sheet_name=\"commodities\")\n",
    "\n",
    "# save to csv\n",
    "commodities_df.to_csv(\"names_and_tickers/yahoo_eodhd_commodities.csv\", index=False, sep=\";\")"
   ]
  }
 ],
 "metadata": {
  "kernelspec": {
   "display_name": ".venv",
   "language": "python",
   "name": "python3"
  },
  "language_info": {
   "codemirror_mode": {
    "name": "ipython",
    "version": 3
   },
   "file_extension": ".py",
   "mimetype": "text/x-python",
   "name": "python",
   "nbconvert_exporter": "python",
   "pygments_lexer": "ipython3",
   "version": "3.10.11"
  }
 },
 "nbformat": 4,
 "nbformat_minor": 2
}
