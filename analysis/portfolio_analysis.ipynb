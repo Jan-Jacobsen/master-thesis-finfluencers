{
 "cells": [
  {
   "cell_type": "code",
   "execution_count": 1,
   "metadata": {},
   "outputs": [],
   "source": [
    "import os\n",
    "import json\n",
    "import pandas as pd\n",
    "import numpy as np\n",
    "import portfolio_utils as pfu\n",
    "import time\n",
    "\n",
    "portfolio_dir = \"../data/portfolios/raw\""
   ]
  },
  {
   "cell_type": "markdown",
   "metadata": {},
   "source": [
    "Since loading portfolio data for all runs at the same time might run into memory constraints, we iteratively compute statistics/performance metrics one run/portfolio at a time."
   ]
  },
  {
   "cell_type": "code",
   "execution_count": 2,
   "metadata": {},
   "outputs": [],
   "source": [
    "# get dirnames to iterate over\n",
    "run_names = [r for r in os.listdir(portfolio_dir) if os.path.isdir(os.path.join(portfolio_dir, r))]\n",
    "#print(run_names)\n",
    "# get channel ids\n",
    "channel_ids = pd.read_csv(f\"{portfolio_dir}/channel_ids.csv\")[\"channel_ids\"].values\n",
    "#print(channel_ids)\n",
    "\n",
    "# load benchmarks\n",
    "benchmark_returns = pd.read_csv(\"../data/asset_data/returns/benchmarks_returns.csv\", sep=\";\").set_index(\"date\")\n",
    "spy_returns = benchmark_returns[\"SPY\"]\n",
    "tbill_returns = benchmark_returns[\"3m_tbills\"]"
   ]
  },
  {
   "cell_type": "code",
   "execution_count": 3,
   "metadata": {},
   "outputs": [
    {
     "name": "stdout",
     "output_type": "stream",
     "text": [
      "Processing run: equal_weight_3m_tbills_hp126_wait1_pos5\n",
      "Run finished in: 6.69 seconds\n",
      "Processing run: equal_weight_3m_tbills_hp126_wait1_pos99999\n",
      "Run finished in: 7.14 seconds\n",
      "Processing run: equal_weight_3m_tbills_hp21_wait1_pos5\n",
      "Run finished in: 6.40 seconds\n",
      "Processing run: equal_weight_3m_tbills_hp21_wait1_pos99999\n",
      "Run finished in: 6.67 seconds\n",
      "Processing run: equal_weight_3m_tbills_hp252_wait1_pos5\n",
      "Run finished in: 6.66 seconds\n",
      "Processing run: equal_weight_3m_tbills_hp252_wait1_pos99999\n",
      "Run finished in: 7.40 seconds\n",
      "Processing run: equal_weight_3m_tbills_hp99999_wait1_pos5\n",
      "Run finished in: 6.88 seconds\n",
      "Processing run: equal_weight_3m_tbills_hp99999_wait1_pos99999\n",
      "Run finished in: 8.62 seconds\n",
      "Processing run: equal_weight_cash_hp126_wait1_pos5\n",
      "Run finished in: 6.46 seconds\n",
      "Processing run: equal_weight_cash_hp126_wait1_pos99999\n",
      "Run finished in: 6.95 seconds\n",
      "Processing run: equal_weight_cash_hp21_wait1_pos5\n",
      "Run finished in: 7.04 seconds\n",
      "Processing run: equal_weight_cash_hp21_wait1_pos99999\n",
      "Run finished in: 11.97 seconds\n",
      "Processing run: equal_weight_cash_hp252_wait1_pos5\n",
      "Run finished in: 12.06 seconds\n",
      "Processing run: equal_weight_cash_hp252_wait1_pos99999\n",
      "Run finished in: 7.42 seconds\n",
      "Processing run: equal_weight_cash_hp99999_wait1_pos5\n",
      "Run finished in: 12.18 seconds\n",
      "Processing run: equal_weight_cash_hp99999_wait1_pos99999\n",
      "Run finished in: 13.32 seconds\n",
      "Processing run: equal_weight_SPY_hp126_wait1_pos5\n",
      "Run finished in: 10.78 seconds\n",
      "Processing run: equal_weight_SPY_hp126_wait1_pos99999\n",
      "Run finished in: 11.17 seconds\n",
      "Processing run: equal_weight_SPY_hp21_wait1_pos5\n",
      "Run finished in: 11.00 seconds\n",
      "Processing run: equal_weight_SPY_hp21_wait1_pos99999\n",
      "Run finished in: 11.08 seconds\n",
      "Processing run: equal_weight_SPY_hp252_wait1_pos5\n",
      "Run finished in: 11.17 seconds\n",
      "Processing run: equal_weight_SPY_hp252_wait1_pos99999\n",
      "Run finished in: 12.21 seconds\n",
      "Processing run: equal_weight_SPY_hp99999_wait1_pos5\n",
      "Run finished in: 11.48 seconds\n",
      "Processing run: equal_weight_SPY_hp99999_wait1_pos99999\n",
      "Run finished in: 13.11 seconds\n"
     ]
    }
   ],
   "source": [
    "pf_stats_list = []\n",
    "for run_name in run_names:\n",
    "    start_time = time.time()\n",
    "    print(f\"Processing run: {run_name}\")\n",
    "    # load settings\n",
    "    settings = json.load(open(os.path.join(portfolio_dir, run_name, \"settings.json\")))\n",
    "    \n",
    "    for channel_id in channel_ids:\n",
    "        # load portfolio data\n",
    "        try:\n",
    "            pos_df_bt = pd.read_csv(f\"{portfolio_dir}/{run_name}/{channel_id}_pos_bt.csv\", sep=\";\", index_col=0)\n",
    "            pos_df_at = pd.read_csv(f\"{portfolio_dir}/{run_name}/{channel_id}_pos_at.csv\", sep=\";\", index_col=0)\n",
    "            trade_logs_df = pd.read_csv(f\"{portfolio_dir}/{run_name}/{channel_id}_trade_logs.csv\", sep=\";\")\n",
    "        except: # skip if no trades (trade_logs_df file has no column names if empty...)\n",
    "            continue\n",
    "        # get portfolio object\n",
    "        p = pfu.Portfolio(channel_id=channel_id, \n",
    "                            pos_df_bt=pos_df_bt, \n",
    "                            pos_df_at=pos_df_at, \n",
    "                            trade_logs_df=trade_logs_df, \n",
    "                            compute_settings=settings)\n",
    "        if not p.has_trades: # skip if no trades\n",
    "            continue \n",
    "        # get portfolio stats \n",
    "        stats = {   \n",
    "            \"channel_id\": channel_id, \n",
    "            \"run_name\": run_name, \n",
    "            ### run settings\n",
    "            \"portfolio_type\": settings[\"portfolio_type\"],\n",
    "            \"max_positions\": settings[\"max_positions\"],\n",
    "            \"max_holding_period\": settings[\"max_holding_period\"],\n",
    "            \"neutral_asset\": settings[\"neutral_asset\"],\n",
    "            \"min_days_wait_after_upload\": settings[\"min_days_wait_after_upload\"],\n",
    "            ### portfolio stats \n",
    "            # general\n",
    "            \"n_days_total_period\": p.n_days_total_period, # trading days\n",
    "            \"n_days_active_holdings\": p.n_days_active_holdings, # trading days\n",
    "            \"n_days_active_period\": p.n_days_active_period, # trading days\n",
    "            \"n_buys\": p.n_buys,\n",
    "            \"n_sells\": p.n_sells,\n",
    "            \"n_unique_positions\": p.n_unique_positions,\n",
    "            \"n_buys_stocks\": p.n_buys_stocks,\n",
    "            \"n_buys_cryptos\": p.n_buys_cryptos,\n",
    "            \"n_buys_etfs\": p.n_buys_etfs,\n",
    "            \"n_buys_commodities\": p.n_buys_commodities,\n",
    "                }\n",
    "        # add performance stats\n",
    "        for period in [\"full\", \"active_period\", \"active_days\"]:\n",
    "            performance_stats = {\n",
    "                f\"total_return_{period}\": p.get_total_return(period=period),\n",
    "                f\"total_excess_return_{period}\": p.get_total_excess_return(bm_returns=spy_returns, period=period),\n",
    "                f\"sharpe_{period}\": p.get_sharpe_ratio(bm_returns=tbill_returns, period=period),\n",
    "                f\"sortino_{period}\": p.get_sortino_ratio(bm_returns=tbill_returns, daily_target_return=0, period=period),\n",
    "                f\"value_at_risk_{period}\": p.get_value_at_risk(alpha=0.05, period=period),\n",
    "                f\"max_drawdown_{period}\": p.get_max_drawdown(period=period),\n",
    "                f\"beta_{period}\": p.get_beta(bm_returns=spy_returns, period=period)\n",
    "            }\n",
    "            stats.update(performance_stats)\n",
    "        # add to list\n",
    "        pf_stats_list.append(stats)\n",
    "    print(f\"Run finished in: {time.time()-start_time:.2f} seconds\")\n",
    "# create df and save to csv\n",
    "pf_stats_df = pd.DataFrame(pf_stats_list)\n",
    "pf_stats_df.to_csv(\"../data/portfolios/portfolio_stats.csv\", index=False, sep=\";\")\n"
   ]
  },
  {
   "cell_type": "code",
   "execution_count": 4,
   "metadata": {},
   "outputs": [
    {
     "name": "stdout",
     "output_type": "stream",
     "text": [
      "equal_weight_cash_hp21_wait1_pos5 @belangp\n"
     ]
    }
   ],
   "source": [
    "print(run_name, channel_id)"
   ]
  },
  {
   "cell_type": "code",
   "execution_count": 4,
   "metadata": {},
   "outputs": [
    {
     "name": "stdout",
     "output_type": "stream",
     "text": [
      "<class 'pandas.core.frame.DataFrame'>\n",
      "RangeIndex: 5064 entries, 0 to 5063\n",
      "Data columns (total 38 columns):\n",
      " #   Column                             Non-Null Count  Dtype  \n",
      "---  ------                             --------------  -----  \n",
      " 0   channel_id                         5064 non-null   object \n",
      " 1   run_name                           5064 non-null   object \n",
      " 2   portfolio_type                     5064 non-null   object \n",
      " 3   max_positions                      5064 non-null   int64  \n",
      " 4   max_holding_period                 5064 non-null   int64  \n",
      " 5   neutral_asset                      5064 non-null   object \n",
      " 6   min_days_wait_after_upload         5064 non-null   int64  \n",
      " 7   n_days_total_period                5064 non-null   int64  \n",
      " 8   n_days_active_holdings             5064 non-null   int64  \n",
      " 9   n_days_active_period               5064 non-null   int64  \n",
      " 10  n_buys                             5064 non-null   int64  \n",
      " 11  n_sells                            5064 non-null   int64  \n",
      " 12  n_unique_positions                 5064 non-null   int64  \n",
      " 13  n_buys_stocks                      5064 non-null   int64  \n",
      " 14  n_buys_cryptos                     5064 non-null   int64  \n",
      " 15  n_buys_etfs                        5064 non-null   int64  \n",
      " 16  n_buys_commodities                 5064 non-null   int64  \n",
      " 17  total_return_full                  5064 non-null   float64\n",
      " 18  total_excess_return_full           5064 non-null   float64\n",
      " 19  sharpe_full                        5064 non-null   float64\n",
      " 20  sortino_full                       5064 non-null   float64\n",
      " 21  value_at_risk_full                 5064 non-null   float64\n",
      " 22  max_drawdown_full                  5064 non-null   float64\n",
      " 23  beta_full                          5064 non-null   float64\n",
      " 24  total_return_active_period         5064 non-null   float64\n",
      " 25  total_excess_return_active_period  5064 non-null   float64\n",
      " 26  sharpe_active_period               5064 non-null   float64\n",
      " 27  sortino_active_period              5064 non-null   float64\n",
      " 28  value_at_risk_active_period        5064 non-null   float64\n",
      " 29  max_drawdown_active_period         5064 non-null   float64\n",
      " 30  beta_active_period                 5064 non-null   float64\n",
      " 31  total_return_active_days           5064 non-null   float64\n",
      " 32  total_excess_return_active_days    5064 non-null   float64\n",
      " 33  sharpe_active_days                 5064 non-null   float64\n",
      " 34  sortino_active_days                5064 non-null   float64\n",
      " 35  value_at_risk_active_days          5064 non-null   float64\n",
      " 36  max_drawdown_active_days           5064 non-null   float64\n",
      " 37  beta_active_days                   5064 non-null   float64\n",
      "dtypes: float64(21), int64(13), object(4)\n",
      "memory usage: 1.5+ MB\n",
      "None\n"
     ]
    }
   ],
   "source": [
    "# load portfolio stats\n",
    "pf_stats_df = pd.read_csv(\"../data/portfolios/portfolio_stats.csv\", sep=\";\")\n",
    "\n",
    "# check info\n",
    "print(pf_stats_df.info())\n"
   ]
  }
 ],
 "metadata": {
  "kernelspec": {
   "display_name": ".venv",
   "language": "python",
   "name": "python3"
  },
  "language_info": {
   "codemirror_mode": {
    "name": "ipython",
    "version": 3
   },
   "file_extension": ".py",
   "mimetype": "text/x-python",
   "name": "python",
   "nbconvert_exporter": "python",
   "pygments_lexer": "ipython3",
   "version": "3.10.11"
  }
 },
 "nbformat": 4,
 "nbformat_minor": 2
}
